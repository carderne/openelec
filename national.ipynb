{
 "cells": [
  {
   "cell_type": "markdown",
   "metadata": {},
   "source": [
    "# Electrify_Clusters"
   ]
  },
  {
   "cell_type": "markdown",
   "metadata": {},
   "source": [
    "### All the necessary Python imports"
   ]
  },
  {
   "cell_type": "code",
   "execution_count": null,
   "metadata": {},
   "outputs": [],
   "source": [
    "%matplotlib inline\n",
    "from pathlib import Path\n",
    "from openelec import national, util\n",
    "import numpy as np\n",
    "\n",
    "%load_ext autoreload\n",
    "%autoreload 2"
   ]
  },
  {
   "cell_type": "markdown",
   "metadata": {},
   "source": [
    "### Enter all input data here"
   ]
  },
  {
   "cell_type": "code",
   "execution_count": null,
   "metadata": {},
   "outputs": [],
   "source": [
    "folder_input = Path('/home/chris/Documents/Code/openelec_app/openelec_app/static/lesotho')\n",
    "\n",
    "clusters_file = folder_input / 'clusters.geojson' # must be polygons with attributes pop_sum, area_m2, grid_dist\n",
    "#clusters_out = folder_input / 'clusters_out1.gpkg'\n",
    "#network_out = folder_input / 'network_out1.gpkg'\n",
    "\n",
    "grid_dist_connected = 1000  # clusters within this distance of grid are considered connected\n",
    "\n",
    "minimum_pop = 100 # exclude any population below this\n",
    "\n",
    "# off-grid costs\n",
    "demand_per_person_kwh_month = 6 # 6kWh/month = MTF Tier 2\n",
    "demand_per_person_kw_peak = demand_per_person_kwh_month / (4*30)  # 130 4hours/day*30days/month based on MTF numbers, should use a real demand curve\n",
    "mg_gen_cost_per_kw = 4000\n",
    "mg_cost_per_m2 = 2\n",
    "\n",
    "# grid costs\n",
    "cost_wire_per_m = 50\n",
    "grid_cost_per_m2 = 2"
   ]
  },
  {
   "cell_type": "markdown",
   "metadata": {},
   "source": [
    "### Read in the clusters file, convert to desired CRS (ostensibly better for distances) and convert to points, filter on population along the way"
   ]
  },
  {
   "cell_type": "code",
   "execution_count": null,
   "metadata": {},
   "outputs": [],
   "source": [
    "clusters = national.load_clusters(clusters_file, grid_dist_connected=grid_dist_connected,\n",
    "                                   minimum_pop=minimum_pop)"
   ]
  },
  {
   "cell_type": "code",
   "execution_count": null,
   "metadata": {},
   "outputs": [],
   "source": [
    "clusters.gdp.max()"
   ]
  },
  {
   "cell_type": "markdown",
   "metadata": {},
   "source": [
    "### We then take all the clusters and calculate the optimum network that connects them all together. The ML model returns T_x and T_y containing the start and end points of each new arc created"
   ]
  },
  {
   "cell_type": "code",
   "execution_count": null,
   "metadata": {},
   "outputs": [],
   "source": [
    "network, nodes = national.create_network(clusters)"
   ]
  },
  {
   "cell_type": "markdown",
   "metadata": {},
   "source": [
    "### Then we're ready to calculate the optimum grid extension.\n",
    "This is done by expanding out from each already connected node, finding the optimum connection of nearby nodes. This is then compared to the off-grid cost and if better, these nodes are marked as connected. Then the loop continues until no new connections are found."
   ]
  },
  {
   "cell_type": "code",
   "execution_count": null,
   "metadata": {},
   "outputs": [],
   "source": [
    "network, nodes = national.model(network,\n",
    "                           nodes,\n",
    "                           demand_per_person_kw_peak=demand_per_person_kw_peak,\n",
    "                           mg_gen_cost=mg_gen_cost_per_kw,\n",
    "                           mg_dist_cost=mg_cost_per_m2,\n",
    "                           grid_mv_cost=cost_wire_per_m,\n",
    "                           grid_lv_cost=grid_cost_per_m2)"
   ]
  },
  {
   "cell_type": "markdown",
   "metadata": {},
   "source": [
    "### And then do a join to get the results back into a polygon shapefile"
   ]
  },
  {
   "cell_type": "code",
   "execution_count": null,
   "metadata": {},
   "outputs": [],
   "source": [
    "network_gdf, clusters_joined = national.spatialise(network, nodes, clusters)"
   ]
  },
  {
   "cell_type": "code",
   "execution_count": null,
   "metadata": {},
   "outputs": [],
   "source": [
    "network_gdf = network_gdf.to_crs(epsg=4326)"
   ]
  },
  {
   "cell_type": "code",
   "execution_count": null,
   "metadata": {},
   "outputs": [],
   "source": [
    "clusters_geojson = util.geojsonify(clusters_joined, property_cols=['type', 'pop', 'area', 'ntl', 'fid', 'grid_dist', 'travel', 'gdp'])"
   ]
  },
  {
   "cell_type": "code",
   "execution_count": null,
   "metadata": {
    "scrolled": true
   },
   "outputs": [],
   "source": [
    "#clusters_joined.to_file(str(clusters_out), driver='GPKG')\n",
    "#network_gdf.to_file(str(network_out), driver='GPKG')"
   ]
  },
  {
   "cell_type": "markdown",
   "metadata": {},
   "source": [
    "### And display some summary results"
   ]
  },
  {
   "cell_type": "code",
   "execution_count": null,
   "metadata": {},
   "outputs": [],
   "source": [
    "new_conns = clusters_joined.loc[clusters_joined['type'] == 'new']\n",
    "og = clusters_joined.loc[clusters_joined['type'] == 'og']\n",
    "orig = clusters_joined.loc[clusters_joined['type'] == 'orig']\n",
    "cost = og['og_cost'].sum() + cost_wire_per_m * network_gdf['len'].sum() + grid_cost_per_m2 * new_conns['area'].sum()\n",
    "\n",
    "total_modelled_pop = clusters['pop'].sum()\n",
    "urban_elec_rate = 0.6\n",
    "currently_electrified = orig['pop'].sum() * urban_elec_rate\n",
    "new_conn_pop = new_conns['pop'].sum()\n",
    "off_grid_pop = og['pop'].sum()\n",
    "\n",
    "print(f'{len(new_conns)} connected')\n",
    "print(f'{len(og)} off-grid')\n",
    "print()\n",
    "print(f'Cost ${cost:,.0f}')\n",
    "print()\n",
    "print(f'Modelled pop: {total_modelled_pop:,.0f}')\n",
    "print(f'Currently electrified: {currently_electrified:,.0f}')\n",
    "print(f'New connections: {new_conn_pop:,.0f}')\n",
    "print(f'Off-grid connections {off_grid_pop:,.0f}')"
   ]
  }
 ],
 "metadata": {
  "kernelspec": {
   "display_name": "Python 3 (openelec)",
   "language": "python",
   "name": "openelec"
  },
  "language_info": {
   "codemirror_mode": {
    "name": "ipython",
    "version": 3
   },
   "file_extension": ".py",
   "mimetype": "text/x-python",
   "name": "python",
   "nbconvert_exporter": "python",
   "pygments_lexer": "ipython3",
   "version": "3.6.7"
  }
 },
 "nbformat": 4,
 "nbformat_minor": 2
}

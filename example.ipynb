{
 "cells": [
  {
   "cell_type": "markdown",
   "metadata": {},
   "source": [
    "# openelec example walkthrough\n",
    "This notebook goes through the main functionality of the openelec model.\n",
    "There is more lurking in the code but this should get you started."
   ]
  },
  {
   "cell_type": "code",
   "execution_count": null,
   "metadata": {},
   "outputs": [],
   "source": [
    "from pathlib import Path\n",
    "import os\n",
    "\n",
    "import matplotlib.pyplot as plt\n",
    "import pandas as pd\n",
    "import geopandas as gpd\n",
    "import folium\n",
    "\n",
    "from openelec.local import LocalModel\n",
    "from openelec.national import NationalModel\n",
    "from openelec import conv"
   ]
  },
  {
   "cell_type": "code",
   "execution_count": null,
   "metadata": {},
   "outputs": [],
   "source": [
    "# Hide Fiona warnings\n",
    "import warnings\n",
    "warnings.simplefilter(\"ignore\")"
   ]
  },
  {
   "cell_type": "markdown",
   "metadata": {},
   "source": [
    "### Set input and output folders"
   ]
  },
  {
   "cell_type": "code",
   "execution_count": null,
   "metadata": {},
   "outputs": [],
   "source": [
    "test_data = Path('test_data')\n",
    "test_output = Path('test_output')"
   ]
  },
  {
   "cell_type": "markdown",
   "metadata": {},
   "source": [
    "# National\n",
    "Run openelec at the national level. This creates a plan of which technology to use to connect each cluster in the country, and creates a plan for network extensions and densification, as well as where off-grid technology should be used."
   ]
  },
  {
   "cell_type": "code",
   "execution_count": null,
   "metadata": {},
   "outputs": [],
   "source": [
    "clusters_in = test_data / 'clusters.geojson'\n",
    "national_out = test_output / 'national'"
   ]
  },
  {
   "cell_type": "markdown",
   "metadata": {},
   "source": [
    "### These are the primary model parameters."
   ]
  },
  {
   "cell_type": "code",
   "execution_count": null,
   "metadata": {},
   "outputs": [],
   "source": [
    "nm = NationalModel(data=clusters_in)\n",
    "nm.parameters(actual_pop=2.2e6,      # current population (NOT USED)\n",
    "              pop_growth=0.01,       # %\n",
    "              gdp_growth=0.02,       # %\n",
    "              people_per_hh=5,       # \n",
    "              \n",
    "              grid_mv_cost=50,       # USD/m\n",
    "              grid_lv_cost=3,        # USD/m\n",
    "              grid_trans_cost=3500,  # USD/unit\n",
    "              grid_conn_cost=200,    # USD/hh\n",
    "              grid_opex_ratio=0.02,  # % of capex (NOT USED)\n",
    "              \n",
    "              mg_gen_cost=4000,      # USD/kW\n",
    "              mg_lv_cost=2,          # USD/m\n",
    "              mg_conn_cost=100,      # USD/hh\n",
    "              mg_opex_ratio=0.02,    # % of capex (NOT USED)\n",
    "              \n",
    "              access_tot=0.30,       # total access rate\n",
    "              access_urban=0.66,     # urban access rate\n",
    "              \n",
    "              grid_dist_connected=2, # km, less considered connected\n",
    "              minimum_pop=100,       # exclude any population below this\n",
    "              demand_factor=5,       # Demand = demand_factor * log(gdp)\n",
    "              use_mtf=False)         # whether to overide demand formula and use MTF"
   ]
  },
  {
   "cell_type": "markdown",
   "metadata": {},
   "source": [
    "## Run dynamically with 4 steps of 5 years each\n",
    "In this mode, the model is run repeatedly, each time getting closer to universal electrification.\n",
    "Each step only includes the most profitable proportion of new on/off-grid connections and densification."
   ]
  },
  {
   "cell_type": "code",
   "execution_count": null,
   "metadata": {},
   "outputs": [],
   "source": [
    "steps = 4                             # number of steps to use (note the graph will break if not == 4)\n",
    "years_per_step = 5                    # the number of years between steps"
   ]
  },
  {
   "cell_type": "code",
   "execution_count": null,
   "metadata": {},
   "outputs": [],
   "source": [
    "dynamic_model = nm.dynamic(steps=steps, years_per_step=years_per_step)\n",
    "fig, ((ax1, ax2), (ax3, ax4)) = plt.subplots(2, 2, figsize=(12,12))\n",
    "features = {}\n",
    "results = {}\n",
    "years = [2025, 2030, 2035, 3040]\n",
    "\n",
    "for i, ((t, n, r), ax) in enumerate(zip(dynamic_model, (ax1, ax2, ax3, ax4))):\n",
    "    features[f't{i+1}'] = t\n",
    "    features[f'n{i+1}'] = n\n",
    "    results[i+1] = r\n",
    "    \n",
    "    n.plot(ax=ax, column='existing', cmap='Set1')\n",
    "    t.plot(ax=ax, column='type', cmap='tab10')\n",
    "    ax.text(nm.x_mean, nm.y_mean, years[i], dict(size=30))\n",
    "    ax.axis('off')\n",
    "\n",
    "conv.save_to_path(national_out, **features)\n",
    "plt.subplots_adjust(hspace=-0.3, wspace=0.0)\n",
    "plt.show()\n",
    "print('Done dynamic model and saved to', national_out.absolute())"
   ]
  },
  {
   "cell_type": "markdown",
   "metadata": {},
   "source": [
    "These columns show the results for each step."
   ]
  },
  {
   "cell_type": "code",
   "execution_count": null,
   "metadata": {
    "scrolled": true
   },
   "outputs": [],
   "source": [
    "pd.set_option('display.float_format', lambda x: '%.0f' % x)\n",
    "summary = pd.DataFrame(results)\n",
    "summary.columns = [f'Step {c}' for c in summary.columns]\n",
    "summary"
   ]
  },
  {
   "cell_type": "markdown",
   "metadata": {},
   "source": [
    "# Run a single simulation for the whole time period\n",
    "In this mode, the model is only run once, with a target of 100% electrification at an undefined future point."
   ]
  },
  {
   "cell_type": "code",
   "execution_count": null,
   "metadata": {},
   "outputs": [],
   "source": [
    "nm.setup(sort_by='pop')\n",
    "nm.initial_access()\n",
    "nm.demand_levels()\n",
    "nm.connect_targets()\n",
    "nm.model()\n",
    "nm.spatialise()\n",
    "results = nm.summary()\n",
    "nm.save_to_path(national_out)\n",
    "print('Done single model and saved to', national_out.absolute())"
   ]
  },
  {
   "cell_type": "code",
   "execution_count": null,
   "metadata": {},
   "outputs": [],
   "source": [
    "fig, ax = plt.subplots(figsize=(8,8))  \n",
    "nm.network_out.plot(ax=ax, column='existing', cmap='Set1')\n",
    "nm.targets_out.plot(ax=ax, column='type', cmap='tab10')\n",
    "ax.axis('off')\n",
    "plt.show()"
   ]
  },
  {
   "cell_type": "code",
   "execution_count": null,
   "metadata": {},
   "outputs": [],
   "source": [
    "print('\\t\\t\\t')\n",
    "print(f'New grid: {results[\"new-grid\"]} at cost ${results[\"cost-grid\"]:,.0f}')\n",
    "print(f'New off-grid: {results[\"new-off-grid\"]} at cost ${results[\"cost-off-grid\"]:,.0f}')\n",
    "print(f'Densify: {results[\"densify\"]} at cost ${results[\"cost-densify\"]:,.0f}')\n",
    "print()\n",
    "print(f'Total cost ${results[\"tot-cost\"]:,.0f}')\n",
    "print()\n",
    "print(f'Modelled pop: {results[\"model-pop\"]:,.0f}')\n",
    "print(f'Currently electrified pop: {results[\"already-elec-pop\"]:,.0f}')\n",
    "print(f'Densify pop: {results[\"densify-pop\"]:,.0f}')\n",
    "print(f'New extentions pop: {results[\"new-conn-pop\"]:,.0f}')\n",
    "print(f'Off-grid pop: {results[\"new-og-pop\"]:,.0f}')"
   ]
  },
  {
   "cell_type": "markdown",
   "metadata": {},
   "source": [
    "# Local\n",
    "This mode zooms in a particular village and calculates the optimum mini-grid and solar-home system set up to connect that village most profitably."
   ]
  },
  {
   "cell_type": "code",
   "execution_count": null,
   "metadata": {},
   "outputs": [],
   "source": [
    "buildings_in = test_data / 'buildings.geojson'\n",
    "local_out = test_output / 'local'"
   ]
  },
  {
   "cell_type": "code",
   "execution_count": null,
   "metadata": {},
   "outputs": [],
   "source": [
    "lm = LocalModel(data=buildings_in)\n",
    "lm.setup(sort_by='area',\n",
    "         min_area=0)  # m2, exclude buildings with area below this"
   ]
  },
  {
   "cell_type": "code",
   "execution_count": null,
   "metadata": {},
   "outputs": [],
   "source": [
    "m = folium.Map([lm.y_mean, lm.x_mean],\n",
    "               zoom_start=15,\n",
    "               control_scale=True)\n",
    "\n",
    "popup_html = '<p>Latitude: \" + lat + \"</p><p>Longitude: \" + lng + \"</p>'\n",
    "folium.ClickForMarker(popup=popup_html).add_to(m)\n",
    "folium.GeoJson(lm.targets).add_to(m)\n",
    "print('Click on the desired location for the PV point.')\n",
    "m"
   ]
  },
  {
   "cell_type": "code",
   "execution_count": null,
   "metadata": {},
   "outputs": [],
   "source": [
    "latitude = -29.5432\n",
    "longitude = 28.1339"
   ]
  },
  {
   "cell_type": "code",
   "execution_count": null,
   "metadata": {},
   "outputs": [],
   "source": [
    "lm.connect_targets(origin=(latitude, longitude))"
   ]
  },
  {
   "cell_type": "code",
   "execution_count": null,
   "metadata": {},
   "outputs": [],
   "source": [
    "lm.parameters(demand=8,             # average demand in kWh/person/month\n",
    "              tariff=0.2,          # USD/kWh charged\n",
    "              gen_cost=4000,        # USD/kW for installation, excluding distribution network\n",
    "              cost_wire=20,         # USD per metre\n",
    "              cost_connection=140,  # USD per connection/node\n",
    "              opex_ratio=0.02,      # % of capex per year (values above 1 are divided by 100)\n",
    "              years=20,             # years over which to amortize (and maintain)\n",
    "              discount_rate=0.06)   # discount rate (values above 1 are divided by 100)"
   ]
  },
  {
   "cell_type": "code",
   "execution_count": null,
   "metadata": {
    "scrolled": true
   },
   "outputs": [],
   "source": [
    "lm.model()"
   ]
  },
  {
   "cell_type": "code",
   "execution_count": null,
   "metadata": {},
   "outputs": [],
   "source": [
    "lm.spatialise()\n",
    "\n",
    "fig, ax = plt.subplots(figsize=(10,10))\n",
    "lm.network_out.loc[lm.network_out['enabled'] == 1].plot(ax=ax, color='red')\n",
    "lm.targets_out.plot(ax=ax, color='blue')\n",
    "ax.scatter(longitude, latitude, s=200, lw=0, c='green')\n",
    "plt.show()"
   ]
  },
  {
   "cell_type": "code",
   "execution_count": null,
   "metadata": {},
   "outputs": [],
   "source": [
    "lm.save_to_path(local_out)\n",
    "print('Done local model and saved to', local_out.absolute())"
   ]
  },
  {
   "cell_type": "code",
   "execution_count": null,
   "metadata": {},
   "outputs": [],
   "source": [
    "results = lm.summary()\n",
    "print(f'Total houses connected: {results[\"connected\"]} out of {len(lm.targets_out)-1}')\n",
    "print(f'Generator installation size: {results[\"gen-size\"]:.0f} kW')\n",
    "print(f'Total length of lines is {results[\"line-length\"]:.0f}m')\n",
    "print(f'CAPEX: ${results[\"capex\"]:.0f}')\n",
    "print(f'Annual OPEX: ${results[\"opex\"]:.0f}')\n",
    "print(f'Annual Income: ${results[\"income\"]:.0f}')\n",
    "print(f'NPV over {lm.years} years is ${lm.results[\"npv\"]:.0f}')"
   ]
  },
  {
   "cell_type": "code",
   "execution_count": null,
   "metadata": {},
   "outputs": [],
   "source": []
  }
 ],
 "metadata": {
  "kernelspec": {
   "display_name": "Python 3",
   "language": "python",
   "name": "python3"
  },
  "language_info": {
   "codemirror_mode": {
    "name": "ipython",
    "version": 3
   },
   "file_extension": ".py",
   "mimetype": "text/x-python",
   "name": "python",
   "nbconvert_exporter": "python",
   "pygments_lexer": "ipython3",
   "version": "3.8.2"
  }
 },
 "nbformat": 4,
 "nbformat_minor": 4
}

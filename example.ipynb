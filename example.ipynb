{
 "cells": [
  {
   "cell_type": "markdown",
   "metadata": {},
   "source": [
    "# openelec example walkthrough"
   ]
  },
  {
   "cell_type": "code",
   "execution_count": null,
   "metadata": {},
   "outputs": [],
   "source": [
    "%load_ext autoreload\n",
    "%autoreload 2\n",
    "%matplotlib inline"
   ]
  },
  {
   "cell_type": "code",
   "execution_count": null,
   "metadata": {},
   "outputs": [],
   "source": [
    "from pathlib import Path\n",
    "import os\n",
    "\n",
    "import matplotlib.pyplot as plt\n",
    "import pandas as pd\n",
    "import geopandas as gpd\n",
    "import folium\n",
    "\n",
    "from openelec.clustering import prepare_clusters\n",
    "from openelec.local import LocalModel\n",
    "from openelec.national import NationalModel"
   ]
  },
  {
   "cell_type": "markdown",
   "metadata": {},
   "source": [
    "# Prepare clusters"
   ]
  },
  {
   "cell_type": "code",
   "execution_count": null,
   "metadata": {},
   "outputs": [],
   "source": [
    "folder_input = Path.home() / 'Documents/GIS'\n",
    "ghs_in = folder_input / 'GHS_POP_250.tif'\n",
    "gdp_in = folder_input / 'GDP.tif'\n",
    "travel_in = folder_input / 'Travel.tif'\n",
    "ntl_in = folder_input / 'VIIRS_Africa_2016.tif'\n",
    "aoi_in = folder_input / 'gadm.gpkg'\n",
    "grid_in = folder_input / 'africagrid.gpkg'\n",
    "\n",
    "folder_output = Path.home() / f'Code/openelec-api/openelec_api/static/lesotho'\n",
    "clusters_out = folder_output / 'clusters.geojson'\n",
    "\n",
    "clusters = prepare_clusters(country,\n",
    "                            ghs_in=ghs_in,\n",
    "                            gdp_in=gdp_in,\n",
    "                            travel_in=travel_in,\n",
    "                            ntl_in=ntl_in,\n",
    "                            aoi_in=aoi_in,\n",
    "                            grid_in=grid_in,\n",
    "                            clusters_out=clusters_out)   "
   ]
  },
  {
   "cell_type": "markdown",
   "metadata": {},
   "source": [
    "# National"
   ]
  },
  {
   "cell_type": "code",
   "execution_count": null,
   "metadata": {},
   "outputs": [],
   "source": [
    "clusters_in = Path('test_data/clusters.geojson')\n",
    "national_out = Path('test_output/national')"
   ]
  },
  {
   "cell_type": "code",
   "execution_count": null,
   "metadata": {},
   "outputs": [],
   "source": [
    "nm = NationalModel(data=clusters_in)\n",
    "nm.parameters(demand=6,              # kWh/person/month\n",
    "              actual_pop=2.2e6,      # current population (NOT USED)\n",
    "              pop_growth=0.01,       # % (NOT USED)\n",
    "              people_per_hh=5,       # \n",
    "              \n",
    "              grid_mv_cost=50,       # USD/m\n",
    "              grid_lv_cost=2,        # USD/m2\n",
    "              grid_conn_cost=200,    # USD/hh\n",
    "              grid_opex_ratio=0.02,  # % of capex (NOT USED)\n",
    "              \n",
    "              mg_gen_cost=4000,      # USD/kW\n",
    "              mg_lv_cost=2,          # USD/m2\n",
    "              mg_conn_cost=100,      # USD/hh\n",
    "              mg_opex_ratio=0.02,    # % of capex (NOT USED)\n",
    "              \n",
    "              access_tot=0.30,       # total access rate\n",
    "              access_urban=0.66,     # urban access rate\n",
    "              \n",
    "              grid_dist_connected=2, # km, less considered connected\n",
    "              minimum_pop=100,       # exclude any population below this\n",
    "              min_ntl_connected=0)   # shouldn't be used if using initial_access()"
   ]
  },
  {
   "cell_type": "code",
   "execution_count": null,
   "metadata": {},
   "outputs": [],
   "source": [
    "nm.setup(sort_by='pop')"
   ]
  },
  {
   "cell_type": "code",
   "execution_count": null,
   "metadata": {},
   "outputs": [],
   "source": [
    "nm.connect_targets()"
   ]
  },
  {
   "cell_type": "code",
   "execution_count": null,
   "metadata": {},
   "outputs": [],
   "source": [
    "nm.initial_access()"
   ]
  },
  {
   "cell_type": "code",
   "execution_count": null,
   "metadata": {},
   "outputs": [],
   "source": [
    "nm.demand_levels(factor=5)"
   ]
  },
  {
   "cell_type": "code",
   "execution_count": null,
   "metadata": {},
   "outputs": [],
   "source": [
    "nm.model()"
   ]
  },
  {
   "cell_type": "code",
   "execution_count": null,
   "metadata": {},
   "outputs": [],
   "source": [
    "nm.spatialise()"
   ]
  },
  {
   "cell_type": "code",
   "execution_count": null,
   "metadata": {},
   "outputs": [],
   "source": [
    "fig, ax = plt.subplots(figsize=(10,10))\n",
    "nm.network_out.plot(ax=ax, column='existing', cmap='Set1')\n",
    "nm.targets_out.plot(ax=ax, column='type', cmap='tab10')\n",
    "plt.show()"
   ]
  },
  {
   "cell_type": "code",
   "execution_count": null,
   "metadata": {},
   "outputs": [],
   "source": [
    "nm.save_to_path(national_out)\n",
    "print('Results saved to', national_out.absolute())"
   ]
  },
  {
   "cell_type": "code",
   "execution_count": null,
   "metadata": {},
   "outputs": [],
   "source": [
    "results = nm.summary()\n",
    "\n",
    "print(f'New grid: {results[\"new-grid\"]} at cost {results[\"cost-grid\"]:,.0f}')\n",
    "print(f'New off-grid: {results[\"new-off-grid\"]} at cost {results[\"cost-off-grid\"]:,.0f}')\n",
    "print(f'Densify: {results[\"densify\"]} at cost {results[\"cost-densify\"]:,.0f}')\n",
    "print()\n",
    "print(f'Total cost ${results[\"tot-cost\"]:,.0f}')\n",
    "print()\n",
    "print(f'Modelled pop: {results[\"model-pop\"]:,.0f}')\n",
    "print(f'Currently electrified pop: {results[\"already-elec-pop\"]:,.0f}')\n",
    "print(f'Densify pop: {results[\"densify-pop\"]:,.0f}')\n",
    "print(f'New extentions pop: {results[\"new-conn-pop\"]:,.0f}')\n",
    "print(f'Off-grid pop: {results[\"new-og-pop\"]:,.0f}')"
   ]
  },
  {
   "cell_type": "markdown",
   "metadata": {},
   "source": [
    "# Local"
   ]
  },
  {
   "cell_type": "code",
   "execution_count": null,
   "metadata": {},
   "outputs": [],
   "source": [
    "buildings_in = Path('test_data/buildings.geojson')\n",
    "local_out = Path('test_output/local')"
   ]
  },
  {
   "cell_type": "code",
   "execution_count": null,
   "metadata": {},
   "outputs": [],
   "source": [
    "lm = LocalModel(data=buildings_in)\n",
    "lm.setup(sort_by='area',\n",
    "         min_area=0)  # m2, exclude buildings with area below this"
   ]
  },
  {
   "cell_type": "code",
   "execution_count": null,
   "metadata": {},
   "outputs": [],
   "source": [
    "m = folium.Map([lm.y_mean, lm.x_mean],\n",
    "               zoom_start=15,\n",
    "               control_scale=True)\n",
    "\n",
    "popup_html = '<p>Latitude: \" + lat + \"</p><p>Longitude: \" + lng + \"</p>'\n",
    "folium.ClickForMarker(popup=popup_html).add_to(m)\n",
    "folium.GeoJson(lm.targets).add_to(m)\n",
    "display(Markdown('### Click on the desired location for the PV point.'))\n",
    "m"
   ]
  },
  {
   "cell_type": "code",
   "execution_count": null,
   "metadata": {},
   "outputs": [],
   "source": [
    "latitude = -29.5432\n",
    "longitude = 28.1339"
   ]
  },
  {
   "cell_type": "code",
   "execution_count": null,
   "metadata": {},
   "outputs": [],
   "source": [
    "lm.connect_targets(origin=(latitude, longitude))"
   ]
  },
  {
   "cell_type": "code",
   "execution_count": null,
   "metadata": {},
   "outputs": [],
   "source": [
    "lm.parameters(demand=8,             # average demand in kWh/person/month\n",
    "              tariff=0.2,          # USD/kWh charged\n",
    "              gen_cost=4000,        # USD/kW for installation, excluding distribution network\n",
    "              cost_wire=20,         # USD per metre\n",
    "              cost_connection=140,  # USD per connection/node\n",
    "              opex_ratio=0.02,      # % of capex per year (values above 1 are divided by 100)\n",
    "              years=20,             # years over which to amortize (and maintain)\n",
    "              discount_rate=0.06)   # discount rate (values above 1 are divided by 100)"
   ]
  },
  {
   "cell_type": "code",
   "execution_count": null,
   "metadata": {
    "scrolled": true
   },
   "outputs": [],
   "source": [
    "lm.model()"
   ]
  },
  {
   "cell_type": "code",
   "execution_count": null,
   "metadata": {},
   "outputs": [],
   "source": [
    "lm.spatialise()\n",
    "\n",
    "fig, ax = plt.subplots(figsize=(10,10))\n",
    "lm.network_out.loc[lm.network_out['enabled'] == 1].plot(ax=ax, color='red')\n",
    "lm.targets_out.plot(ax=ax, color='blue')\n",
    "ax.scatter(longitude, latitude, s=200, lw=0, c='green')\n",
    "plt.show()"
   ]
  },
  {
   "cell_type": "code",
   "execution_count": null,
   "metadata": {},
   "outputs": [],
   "source": [
    "lm.save_to_path(local_out)\n",
    "print('Results saved to', local_out.absolute())"
   ]
  },
  {
   "cell_type": "code",
   "execution_count": null,
   "metadata": {},
   "outputs": [],
   "source": [
    "results = lm.summary()\n",
    "print(f'Total houses connected: {results[\"connected\"]} out of {len(lm.targets_out)-1}')\n",
    "print(f'Generator installation size: {results[\"gen-size\"]:.0f} kW')\n",
    "print(f'Total length of lines is {results[\"line-length\"]:.0f}m')\n",
    "print(f'CAPEX: ${results[\"capex\"]:.0f}')\n",
    "print(f'Annual OPEX: ${results[\"opex\"]:.0f}')\n",
    "print(f'Annual Income: ${results[\"income\"]:.0f}')\n",
    "print(f'NPV over {lm.years} years is ${lm.results[\"npv\"]:.0f}')"
   ]
  }
 ],
 "metadata": {
  "kernelspec": {
   "display_name": "Python 3 (openelec)",
   "language": "python",
   "name": "openelec"
  },
  "language_info": {
   "codemirror_mode": {
    "name": "ipython",
    "version": 3
   },
   "file_extension": ".py",
   "mimetype": "text/x-python",
   "name": "python",
   "nbconvert_exporter": "python",
   "pygments_lexer": "ipython3",
   "version": "3.6.7"
  }
 },
 "nbformat": 4,
 "nbformat_minor": 2
}

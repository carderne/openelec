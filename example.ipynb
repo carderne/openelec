{
 "cells": [
  {
   "cell_type": "markdown",
   "metadata": {},
   "source": [
    "# openelec example walkthrough"
   ]
  },
  {
   "cell_type": "code",
   "execution_count": null,
   "metadata": {},
   "outputs": [],
   "source": [
    "%load_ext autoreload\n",
    "%autoreload 2\n",
    "%matplotlib inline"
   ]
  },
  {
   "cell_type": "code",
   "execution_count": null,
   "metadata": {},
   "outputs": [],
   "source": [
    "from pathlib import Path\n",
    "import os\n",
    "\n",
    "import pandas as pd\n",
    "import geopandas as gpd\n",
    "import folium\n",
    "\n",
    "import matplotlib.pyplot as plt\n",
    "from IPython.display import display, Markdown\n",
    "\n",
    "from openelec.clustering import prepare_clusters\n",
    "from openelec.local import LocalModel\n",
    "from openelec import io"
   ]
  },
  {
   "cell_type": "code",
   "execution_count": null,
   "metadata": {},
   "outputs": [],
   "source": [
    "country = 'Lesotho'"
   ]
  },
  {
   "cell_type": "markdown",
   "metadata": {},
   "source": [
    "# Prepare clusters"
   ]
  },
  {
   "cell_type": "code",
   "execution_count": null,
   "metadata": {},
   "outputs": [],
   "source": [
    "folder_input = Path.home() / 'Documents/GIS'\n",
    "ghs_in = folder_input / 'GHS_POP_250.tif'\n",
    "gdp_in = folder_input / 'GDP.tif'\n",
    "travel_in = folder_input / 'Travel.tif'\n",
    "ntl_in = folder_input / 'VIIRS_Africa_2016.tif'\n",
    "aoi_in = folder_input / 'gadm.gpkg'\n",
    "grid_in = folder_input / 'africagrid.gpkg'\n",
    "\n",
    "folder_output = Path.home() / f'Code/openelec-api/openelec_api/static/{country.lower()}'\n",
    "clusters_out = folder_output / 'clusters.geojson'\n",
    "\n",
    "clusters = prepare_clusters(country,\n",
    "                            ghs_in=ghs_in,\n",
    "                            gdp_in=gdp_in,\n",
    "                            travel_in=travel_in,\n",
    "                            ntl_in=ntl_in,\n",
    "                            aoi_in=aoi_in,\n",
    "                            grid_in=grid_in,\n",
    "                            clusters_out=clusters_out)   "
   ]
  },
  {
   "cell_type": "markdown",
   "metadata": {},
   "source": [
    "# National"
   ]
  },
  {
   "cell_type": "code",
   "execution_count": null,
   "metadata": {},
   "outputs": [],
   "source": []
  },
  {
   "cell_type": "markdown",
   "metadata": {},
   "source": [
    "# Local"
   ]
  },
  {
   "cell_type": "code",
   "execution_count": null,
   "metadata": {},
   "outputs": [],
   "source": [
    "buildings_in = Path('test_data/buildings.geojson')\n",
    "output_data = Path('test_output')"
   ]
  },
  {
   "cell_type": "code",
   "execution_count": null,
   "metadata": {},
   "outputs": [],
   "source": [
    "min_area = 0  # exclude any buildings with area (in m2) below this value\n",
    "lm = LocalModel(data=buildings_in, min_area=min_area)"
   ]
  },
  {
   "cell_type": "code",
   "execution_count": null,
   "metadata": {},
   "outputs": [],
   "source": [
    "m = folium.Map([lm.y_mean, lm.x_mean],\n",
    "               zoom_start=15,\n",
    "               control_scale=True)\n",
    "\n",
    "popup_html = '<h2>Latitude: \" + lat + \"</h2><h2>Longitude: \" + lng + \"</h2><h3>Copy these values into the variables below.</h3>'\n",
    "folium.ClickForMarker(popup=popup_html).add_to(m)\n",
    "folium.GeoJson(lm.targets).add_to(m)\n",
    "display(Markdown('### Please click on the desired location for the PV point.'))\n",
    "display(Markdown('### Then click on the marker that appears and copy the values in below (with all decimals values!).'))\n",
    "display(m)"
   ]
  },
  {
   "cell_type": "code",
   "execution_count": null,
   "metadata": {},
   "outputs": [],
   "source": [
    "latitude = -29.5431\n",
    "longitude = 28.1412"
   ]
  },
  {
   "cell_type": "code",
   "execution_count": null,
   "metadata": {},
   "outputs": [],
   "source": [
    "lm.connect_targets(origin=(latitude, longitude))"
   ]
  },
  {
   "cell_type": "code",
   "execution_count": null,
   "metadata": {},
   "outputs": [],
   "source": [
    "lm.parameters(demand=8,             # average demand in kWh/person/month\n",
    "              tariff=0.2,          # USD/kWh charged\n",
    "              gen_cost=4000,        # USD/kW for installation, excluding distribution network\n",
    "              cost_wire=20,         # USD per metre\n",
    "              cost_connection=140,  # USD per connection/node\n",
    "              opex_ratio=0.02,      # % of capex per year (values above 1 are divided by 100)\n",
    "              years=20,             # years over which to amortize (and maintain)\n",
    "              discount_rate=0.06)   # discount rate (values above 1 are divided by 100)"
   ]
  },
  {
   "cell_type": "code",
   "execution_count": null,
   "metadata": {
    "scrolled": true
   },
   "outputs": [],
   "source": [
    "lm.model()"
   ]
  },
  {
   "cell_type": "code",
   "execution_count": null,
   "metadata": {},
   "outputs": [],
   "source": [
    "lm.spatialise()\n",
    "\n",
    "display(Markdown('### A small graph is shown below, with the PV point in green'))\n",
    "fig, ax = plt.subplots(figsize=(10,10))\n",
    "lm.network_gdf.loc[lm.network_gdf['enabled'] == 1].plot(ax=ax, color='red')\n",
    "lm.buildings_gdf.plot(ax=ax, color='blue')\n",
    "ax.scatter(longitude, latitude, s=80, lw=0, c='green')\n",
    "plt.show()"
   ]
  },
  {
   "cell_type": "code",
   "execution_count": null,
   "metadata": {},
   "outputs": [],
   "source": [
    "lm.save_to_path(output_data)\n",
    "print('Results saved to', output_data.absolute())"
   ]
  },
  {
   "cell_type": "code",
   "execution_count": null,
   "metadata": {},
   "outputs": [],
   "source": [
    "lm.summary()\n",
    "display(Markdown(f'Total houses connected: {lm.results[\"connected\"]} out of {len(lm.buildings_gdf)-1}'))\n",
    "display(Markdown(f'Generator installation size: {lm.results[\"gen-size\"]:.0f} kW'))\n",
    "display(Markdown(f'Total length of lines is {lm.results[\"line-length\"]:.0f}m'))\n",
    "display(Markdown(f'CAPEX: ${lm.results[\"capex\"]:.0f}'))\n",
    "display(Markdown(f'Annual OPEX: ${lm.results[\"opex\"]:.0f}'))\n",
    "display(Markdown(f'Annual Income: ${lm.results[\"income\"]:.0f}'))\n",
    "display(Markdown(f'**NPV over {lm.years} years is ${lm.results[\"npv\"]:.0f}**'))"
   ]
  },
  {
   "cell_type": "code",
   "execution_count": null,
   "metadata": {},
   "outputs": [],
   "source": []
  }
 ],
 "metadata": {
  "kernelspec": {
   "display_name": "Python 3 (openelec)",
   "language": "python",
   "name": "openelec"
  },
  "language_info": {
   "codemirror_mode": {
    "name": "ipython",
    "version": 3
   },
   "file_extension": ".py",
   "mimetype": "text/x-python",
   "name": "python",
   "nbconvert_exporter": "python",
   "pygments_lexer": "ipython3",
   "version": "3.6.7"
  }
 },
 "nbformat": 4,
 "nbformat_minor": 2
}

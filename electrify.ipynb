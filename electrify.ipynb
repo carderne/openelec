{
 "cells": [
  {
   "cell_type": "markdown",
   "metadata": {},
   "source": [
    "# Electrify_Clusters"
   ]
  },
  {
   "cell_type": "markdown",
   "metadata": {},
   "source": [
    "### All the necessary Python imports"
   ]
  },
  {
   "cell_type": "code",
   "execution_count": 50,
   "metadata": {},
   "outputs": [
    {
     "name": "stdout",
     "output_type": "stream",
     "text": [
      "The autoreload extension is already loaded. To reload it, use:\n",
      "  %reload_ext autoreload\n"
     ]
    }
   ],
   "source": [
    "%matplotlib inline\n",
    "from pathlib import Path\n",
    "from openelec import national, util\n",
    "import numpy as np\n",
    "\n",
    "%load_ext autoreload\n",
    "%autoreload 2"
   ]
  },
  {
   "cell_type": "markdown",
   "metadata": {},
   "source": [
    "### Enter all input data here"
   ]
  },
  {
   "cell_type": "code",
   "execution_count": 16,
   "metadata": {},
   "outputs": [],
   "source": [
    "folder_input = Path('/home/chris/Documents/Code/openelec_app/openelec_app/static/lesotho')\n",
    "\n",
    "clusters_file = folder_input / 'clusters.geojson' # must be polygons with attributes pop_sum, area_m2, grid_dist\n",
    "#clusters_out = folder_input / 'clusters_out1.gpkg'\n",
    "#network_out = folder_input / 'network_out1.gpkg'\n",
    "\n",
    "grid_dist_connected = 1000  # clusters within this distance of grid are considered connected\n",
    "\n",
    "minimum_pop = 100 # exclude any population below this\n",
    "\n",
    "# off-grid costs\n",
    "demand_per_person_kwh_month = 6 # 6kWh/month = MTF Tier 2\n",
    "demand_per_person_kw_peak = demand_per_person_kwh_month / (4*30)  # 130 4hours/day*30days/month based on MTF numbers, should use a real demand curve\n",
    "mg_gen_cost_per_kw = 4000\n",
    "mg_cost_per_m2 = 2\n",
    "\n",
    "# grid costs\n",
    "cost_wire_per_m = 50\n",
    "grid_cost_per_m2 = 2"
   ]
  },
  {
   "cell_type": "markdown",
   "metadata": {},
   "source": [
    "### Read in the clusters file, convert to desired CRS (ostensibly better for distances) and convert to points, filter on population along the way"
   ]
  },
  {
   "cell_type": "code",
   "execution_count": 17,
   "metadata": {},
   "outputs": [],
   "source": [
    "clusters = national.load_clusters(clusters_file, grid_dist_connected=grid_dist_connected,\n",
    "                                   minimum_pop=minimum_pop)"
   ]
  },
  {
   "cell_type": "code",
   "execution_count": 18,
   "metadata": {},
   "outputs": [
    {
     "data": {
      "text/plain": [
       "1694.0"
      ]
     },
     "execution_count": 18,
     "metadata": {},
     "output_type": "execute_result"
    }
   ],
   "source": [
    "clusters.gdp.max()"
   ]
  },
  {
   "cell_type": "markdown",
   "metadata": {},
   "source": [
    "### We then take all the clusters and calculate the optimum network that connects them all together. The ML model returns T_x and T_y containing the start and end points of each new arc created"
   ]
  },
  {
   "cell_type": "code",
   "execution_count": 19,
   "metadata": {},
   "outputs": [],
   "source": [
    "network, nodes = national.create_network(clusters)"
   ]
  },
  {
   "cell_type": "code",
   "execution_count": 9,
   "metadata": {},
   "outputs": [],
   "source": [
    "national.model?"
   ]
  },
  {
   "cell_type": "markdown",
   "metadata": {},
   "source": [
    "### Then we're ready to calculate the optimum grid extension.\n",
    "This is done by expanding out from each already connected node, finding the optimum connection of nearby nodes. This is then compared to the off-grid cost and if better, these nodes are marked as connected. Then the loop continues until no new connections are found."
   ]
  },
  {
   "cell_type": "code",
   "execution_count": 20,
   "metadata": {},
   "outputs": [],
   "source": [
    "network, nodes = national.model(network,\n",
    "                           nodes,\n",
    "                           demand_per_person_kw_peak=demand_per_person_kw_peak,\n",
    "                           mg_gen_cost=mg_gen_cost_per_kw,\n",
    "                           mg_dist_cost=mg_cost_per_m2,\n",
    "                           grid_mv_cost=cost_wire_per_m,\n",
    "                           grid_lv_cost=grid_cost_per_m2)"
   ]
  },
  {
   "cell_type": "markdown",
   "metadata": {},
   "source": [
    "### And then do a join to get the results back into a polygon shapefile"
   ]
  },
  {
   "cell_type": "code",
   "execution_count": 21,
   "metadata": {},
   "outputs": [],
   "source": [
    "network_gdf, clusters_joined = national.spatialise(network, nodes, clusters)"
   ]
  },
  {
   "cell_type": "code",
   "execution_count": 54,
   "metadata": {},
   "outputs": [
    {
     "data": {
      "text/plain": [
       "True"
      ]
     },
     "execution_count": 54,
     "metadata": {},
     "output_type": "execute_result"
    }
   ],
   "source": [
    "import pandas as pd\n",
    "pd.isna(clusters_joined.loc[1456, 'gdp'])"
   ]
  },
  {
   "cell_type": "code",
   "execution_count": 55,
   "metadata": {},
   "outputs": [],
   "source": [
    "clusters_geojson = util.geojsonify(clusters_joined, property_cols=['type', 'pop', 'area', 'ntl', 'fid', 'grid_dist', 'travel', 'gdp'])"
   ]
  },
  {
   "cell_type": "code",
   "execution_count": 56,
   "metadata": {},
   "outputs": [
    {
     "data": {
      "text/plain": [
       "{'geometry': {'coordinates': [[(28.903290682234708, -29.297143157012652),\n",
       "    (28.90600572238901, -29.29714315701297),\n",
       "    (28.906273647415237, -29.297153413984653),\n",
       "    (28.906542601357142, -29.297184086121348),\n",
       "    (28.90680999415307, -29.29723487804157),\n",
       "    (28.907073250779046, -29.29730530060096),\n",
       "    (28.907329836043296, -29.29739467560852),\n",
       "    (28.907577278997067, -29.297502142350982),\n",
       "    (28.90781319672719, -29.29762666588758),\n",
       "    (28.908035317301053, -29.297767047008698),\n",
       "    (28.908241501643236, -29.29792193379283),\n",
       "    (28.908429764133523, -29.298089834619358),\n",
       "    (28.90859829172761, -29.298269132533317),\n",
       "    (28.908745461416675, -29.298458100819392),\n",
       "    (28.908869855857777, -29.298654919627793),\n",
       "    (28.90897027702422, -29.29885769350059),\n",
       "    (28.909045757744863, -29.299064469626398),\n",
       "    (28.909095571020764, -29.299273256644405),\n",
       "    (28.909470420387606, -29.30140337309704),\n",
       "    (28.909494090235007, -29.301612161924535),\n",
       "    (28.90949138441825, -29.301818940162324),\n",
       "    (28.909462328883947, -29.302021716414178),\n",
       "    (28.909407203337917, -29.30221853782203),\n",
       "    (28.909326538555895, -29.30240750887568),\n",
       "    (28.90922111127612, -29.302586809659918),\n",
       "    (28.90909193672319, -29.302754713389646),\n",
       "    (28.908940258834598, -29.302909603037836),\n",
       "    (28.908767538284096, -29.303049986909),\n",
       "    (28.90857543841733, -29.303174513006),\n",
       "    (28.908365809234652, -29.30328198205149),\n",
       "    (28.908140669575594, -29.3033713590389),\n",
       "    (28.90790218767664, -29.303441783201034),\n",
       "    (28.907652660289035, -29.30349257629923),\n",
       "    (28.907394490558342, -29.303523249156935),\n",
       "    (28.907130164878588, -29.30353350637146),\n",
       "    (28.904415019109337, -29.30353350637146),\n",
       "    (28.904147083344114, -29.303523249156935),\n",
       "    (28.903878118135438, -29.30349257629923),\n",
       "    (28.903610713877143, -29.303441783200434),\n",
       "    (28.903347445933267, -29.30337135903926),\n",
       "    (28.903090849831514, -29.303281982050898),\n",
       "    (28.90284339684023, -29.303174513005807),\n",
       "    (28.90260747016475, -29.303049986909),\n",
       "    (28.90238534199199, -29.302909603037836),\n",
       "    (28.902179151604873, -29.302754713389646),\n",
       "    (28.90199088477718, -29.302586809659918),\n",
       "    (28.901822354647802, -29.30240750887568),\n",
       "    (28.90167518425799, -29.302218537822764),\n",
       "    (28.901550790920624, -29.302021716413414),\n",
       "    (28.9014503725713, -29.301818940162324),\n",
       "    (28.90137489623319, -29.30161216192483),\n",
       "    (28.901325088706326, -29.30140337309704),\n",
       "    (28.900950344954442, -29.299273256644405),\n",
       "    (28.90092668965665, -29.299064469625822),\n",
       "    (28.90092941012037, -29.29885769350059),\n",
       "    (28.900958480034195, -29.298654919627793),\n",
       "    (28.901013619324154, -29.298458100819392),\n",
       "    (28.90109429685533, -29.298269132533317),\n",
       "    (28.901199735551344, -29.298089834619358),\n",
       "    (28.90132891988221, -29.29792193379283),\n",
       "    (28.901480605648153, -29.297767047008698),\n",
       "    (28.901653331965154, -29.29762666588729),\n",
       "    (28.901845435336714, -29.29750214235057),\n",
       "    (28.902055065675977, -29.29739467560852),\n",
       "    (28.90228020412413, -29.29730530060096),\n",
       "    (28.902518682493305, -29.29723487804157),\n",
       "    (28.902768204146618, -29.297184086120865),\n",
       "    (28.903026366114606, -29.297153413984653),\n",
       "    (28.903290682234708, -29.297143157012652)]],\n",
       "  'type': 'Polygon'},\n",
       " 'properties': {'area': 508534.2806590266,\n",
       "  'fid': 1079,\n",
       "  'gdp': 0,\n",
       "  'grid_dist': 7846.177413237608,\n",
       "  'ntl': 21.0,\n",
       "  'pop': 104.43157958984375,\n",
       "  'travel': 0,\n",
       "  'type': 'new'},\n",
       " 'type': 'Feature'}"
      ]
     },
     "execution_count": 56,
     "metadata": {},
     "output_type": "execute_result"
    }
   ],
   "source": [
    "clusters_geojson['features'][1456]"
   ]
  },
  {
   "cell_type": "code",
   "execution_count": 8,
   "metadata": {
    "scrolled": true
   },
   "outputs": [],
   "source": [
    "#clusters_joined.to_file(str(clusters_out), driver='GPKG')\n",
    "#network_gdf.to_file(str(network_out), driver='GPKG')"
   ]
  },
  {
   "cell_type": "markdown",
   "metadata": {},
   "source": [
    "### And display some summary results"
   ]
  },
  {
   "cell_type": "code",
   "execution_count": 22,
   "metadata": {},
   "outputs": [
    {
     "name": "stdout",
     "output_type": "stream",
     "text": [
      "767 connected\n",
      "736 off-grid\n",
      "\n",
      "Cost $3,426,290,177\n",
      "\n",
      "Modelled pop: 2,041,503\n",
      "Currently electrified: 471,170\n",
      "New connections: 1,038,907\n",
      "Off-grid connections 217,314\n"
     ]
    }
   ],
   "source": [
    "new_conns = clusters_joined.loc[clusters_joined['type'] == 'new']\n",
    "og = clusters_joined.loc[clusters_joined['type'] == 'og']\n",
    "orig = clusters_joined.loc[clusters_joined['type'] == 'orig']\n",
    "cost = og['og_cost'].sum() + cost_wire_per_m * network_gdf['len'].sum() + grid_cost_per_m2 * new_conns['area'].sum()\n",
    "\n",
    "total_modelled_pop = clusters['pop'].sum()\n",
    "urban_elec_rate = 0.6\n",
    "currently_electrified = orig['pop'].sum() * urban_elec_rate\n",
    "new_conn_pop = new_conns['pop'].sum()\n",
    "off_grid_pop = og['pop'].sum()\n",
    "\n",
    "print(f'{len(new_conns)} connected')\n",
    "print(f'{len(og)} off-grid')\n",
    "print()\n",
    "print(f'Cost ${cost:,.0f}')\n",
    "print()\n",
    "print(f'Modelled pop: {total_modelled_pop:,.0f}')\n",
    "print(f'Currently electrified: {currently_electrified:,.0f}')\n",
    "print(f'New connections: {new_conn_pop:,.0f}')\n",
    "print(f'Off-grid connections {off_grid_pop:,.0f}')"
   ]
  }
 ],
 "metadata": {
  "kernelspec": {
   "display_name": "Python 3",
   "language": "python",
   "name": "python3"
  },
  "language_info": {
   "codemirror_mode": {
    "name": "ipython",
    "version": 3
   },
   "file_extension": ".py",
   "mimetype": "text/x-python",
   "name": "python",
   "nbconvert_exporter": "python",
   "pygments_lexer": "ipython3",
   "version": "3.6.4"
  }
 },
 "nbformat": 4,
 "nbformat_minor": 2
}

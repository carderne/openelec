{
 "cells": [
  {
   "cell_type": "code",
   "execution_count": 1,
   "metadata": {},
   "outputs": [],
   "source": [
    "%load_ext autoreload\n",
    "%autoreload 2"
   ]
  },
  {
   "cell_type": "code",
   "execution_count": 3,
   "metadata": {},
   "outputs": [],
   "source": [
    "from pathlib import Path\n",
    "\n",
    "import geopandas as gpd\n",
    "\n",
    "from openelec import clustering"
   ]
  },
  {
   "cell_type": "markdown",
   "metadata": {},
   "source": [
    "## Create clusters"
   ]
  },
  {
   "cell_type": "code",
   "execution_count": 15,
   "metadata": {},
   "outputs": [],
   "source": [
    "def prepare_clusters(country):\n",
    "    folder_input = Path.home() / 'Documents/GIS'\n",
    "    ghs_in = folder_input / 'GHS_POP_250.tif'\n",
    "    gdp_in = folder_input / 'GDP.tif'\n",
    "    travel_in = folder_input / 'Travel.tif'\n",
    "    ntl_in = folder_input / 'VIIRS_Africa_2016.tif'\n",
    "    clip_boundary = folder_input / 'gadm_global.gpkg'\n",
    "    grid_in = '/home/chris/Work/Tanzania/Data/tz_grid.gpkg'\n",
    "    \n",
    "    folder_output = Path.home() / 'Documents/Code/openelec_app/openelec_app/static/{country.lower()}'\n",
    "    clusters_out = folder_output / 'clusters.geojson'\n",
    "    \n",
    "    print('Clipping raster...', end='', flush=True)\n",
    "    boundary = gpd.read_file(clip_boundary)\n",
    "    boundary = boundary.loc[boundary['NAME_0'] == country]\n",
    "    clipped, affine, crs = clustering.clip_raster(raster=ghs_in, boundary=boundary)\n",
    "    \n",
    "    print('\\t\\tDone\\nCreating clusters...', end='', flush=True)\n",
    "    clusters = clustering.create_clusters(raster=clipped, affine=affine, crs=crs)\n",
    "    \n",
    "    print('\\t\\tDone\\nFiltering and merging...', end='', flush=True)\n",
    "    # Increase buffer to 500m?\n",
    "    clusters = clustering.filter_merge_clusters(clusters=clusters, buffer_amount=500)\n",
    "    \n",
    "    print('\\tDone\\nGetting population...', end='', flush=True)\n",
    "    # Number of people per cluster\n",
    "    clusters = clustering.add_raster_layer(clusters=clusters, raster=ghs_in, operation='sum', col_name='pop')\n",
    "    \n",
    "    print('\\tDone\\nGetting NTL...', end='', flush=True)\n",
    "    # Value from -0.1ish to about 30? We cut off negative values to minimum 0\n",
    "    clusters = clustering.add_raster_layer(clusters=clusters, raster=ntl_in, operation='max', col_name='ntl', crs={'init': 'epsg:4326'})\n",
    "    clusters = clustering.fix_column(clusters, 'ntl', minimum=0)\n",
    "    \n",
    "    print('\\tDone\\nGetting travel...', end='', flush=True)\n",
    "    # Travel time to cities, divide by 60m to get hours and replace nan with median\n",
    "    clusters = clustering.add_raster_layer(clusters=clusters, raster=travel_in, operation='median', col_name='travel')\n",
    "    clusters = clustering.fix_column(clusters, 'travel', factor=1/60, no_value='median')\n",
    "    \n",
    "    print('\\tDone\\nGetting GDP...', end='', flush=True)\n",
    "    # Get GDP in USD/capita for each cluster (input is kUSD per cell)\n",
    "    clusters = clustering.add_raster_layer(clusters=clusters, raster=gdp_in, operation='sum', col_name='gdp')\n",
    "    clusters = clustering.fix_column(clusters, 'gdp', factor=1000, maximum='largest', no_value='median', per_capita=True)\n",
    "    \n",
    "    print('\\t\\tDone\\nGetting grid dists...', end='', flush=True)\n",
    "    # Get grid distance in km\n",
    "    grid = gpd.read_file(grid_in)\n",
    "    grid = grid[grid.geometry.intersects(boundary.geometry.unary_union)]\n",
    "    clusters = clustering.add_vector_layer(clusters=clusters, vector=grid, operation='distance', col_name='grid',\n",
    "                                                shape=clipped[0].shape, affine=affine, raster_crs=crs)\n",
    "    clusters = clustering.fix_column(clusters, 'grid', factor=1/1000)\n",
    "    \n",
    "    print('\\t\\tDone\\nSimplifying geometry...', end='', flush=True)\n",
    "    clusters.geometry = clusters.simplify(tolerance=0.001, preserve_topology=False)\n",
    "    \n",
    "    print(f'\\t\\tDone\\nSaving to {str(clusters_out)}...', end='', flush=True)\n",
    "    clusters['fid'] = clusters.index\n",
    "    clustering.save_clusters(clusters=clusters, out_path=clusters_out)\n",
    "    \n",
    "    print('\\t\\tDone')\n",
    "    \n",
    "    return clusters"
   ]
  },
  {
   "cell_type": "code",
   "execution_count": 10,
   "metadata": {},
   "outputs": [
    {
     "name": "stdout",
     "output_type": "stream",
     "text": [
      "Clipping raster...\t\tDone\n",
      "Creating clusters...\t\tDone\n",
      "Filtering and merging...\tDone\n",
      "Getting population...\tDone\n",
      "Getting NTL...\tDone\n",
      "Getting travel...\tDone\n",
      "Getting GDP...\t\tDone\n",
      "Getting grid dists...\t\tDone\n",
      "Simplifying geometry...\t\tDone\n",
      "Saving to /home/chris/Documents/Code/openelec_app/openelec_app/static/{country.lower()}/clusters.geojson...\t\tDone\n"
     ]
    }
   ],
   "source": [
    "clusters = prepare_clusters('Tanzania')"
   ]
  },
  {
   "cell_type": "markdown",
   "metadata": {},
   "source": [
    "## Read NTL"
   ]
  },
  {
   "cell_type": "code",
   "execution_count": null,
   "metadata": {},
   "outputs": [],
   "source": [
    "country = 'Lesotho'\n",
    "folder_input = Path('/home/chris/Documents/GIS')\n",
    "ghs_in = folder_input / 'GHS_POP_250.tif'\n",
    "gdp_in = folder_input / 'GDP.tif'\n",
    "travel_in = folder_input / 'Travel.tif'\n",
    "ntl_in = folder_input / 'NTL_C2.tif'\n",
    "\n",
    "clip_boundary = folder_input / 'gadm_global.gpkg'\n",
    "grid_in = folder_input / 'africagrid.gpkg'\n",
    "clusters_file = folder_input / f'clusters_{country}_2.gpkg'"
   ]
  },
  {
   "cell_type": "code",
   "execution_count": null,
   "metadata": {},
   "outputs": [],
   "source": [
    "ntl = rasterio.open(ntl_in, mode='r')\n",
    "ghs = rasterio.open(ghs_in, crs=4326)"
   ]
  },
  {
   "cell_type": "code",
   "execution_count": null,
   "metadata": {},
   "outputs": [],
   "source": [
    "rasterio.open(ntl_in, mode='r').crs"
   ]
  },
  {
   "cell_type": "code",
   "execution_count": null,
   "metadata": {},
   "outputs": [],
   "source": [
    "plt.imshow(ntl.read(1), cmap='pink')"
   ]
  },
  {
   "cell_type": "code",
   "execution_count": null,
   "metadata": {},
   "outputs": [],
   "source": [
    "boundary = gpd.read_file(clip_boundary)\n",
    "boundary = boundary.loc[boundary['NAME_0'] == country]\n",
    "clipped, affine, crs = clustering.clip_raster(raster=ghs_in, boundary=boundary)\n",
    "clusters = clustering.create_clusters(raster=clipped, affine=affine, crs=crs)\n",
    "clusters = clustering.filter_merge_clusters(clusters=clusters, buffer_amount=250)"
   ]
  },
  {
   "cell_type": "code",
   "execution_count": null,
   "metadata": {},
   "outputs": [],
   "source": [
    "boundary = boundary.to_crs(epsg=4326)\n",
    "coords = [json.loads(boundary.to_json())['features'][0]['geometry']]"
   ]
  },
  {
   "cell_type": "code",
   "execution_count": null,
   "metadata": {},
   "outputs": [],
   "source": [
    "raster = rasterio.open(ntl_in, crs=4326)\n",
    "clipped, affine = mask(dataset=raster, shapes=coords, crop=True)\n",
    "clipped = clipped[0]"
   ]
  },
  {
   "cell_type": "code",
   "execution_count": null,
   "metadata": {},
   "outputs": [],
   "source": [
    "new_dataset = rasterio.open('/home/chris/Documents/GIS/clipped.tif', 'w', driver='GTiff',\n",
    "                              height=clipped.shape[0], width=clipped.shape[1],\n",
    "                                 count=1, dtype=clipped.dtype,\n",
    "                              crs='+proj=latlong', transform=affine)\n",
    "new_dataset.write(clipped, 1)\n",
    "new_dataset.close()"
   ]
  },
  {
   "cell_type": "code",
   "execution_count": null,
   "metadata": {},
   "outputs": [],
   "source": [
    "show(clipped[2], transform=affine)"
   ]
  },
  {
   "cell_type": "code",
   "execution_count": null,
   "metadata": {},
   "outputs": [],
   "source": [
    "stats = zonal_stats(clusters, '/home/chris/Documents/GIS/clipped.tif', stats='mean')\n",
    "stats"
   ]
  },
  {
   "cell_type": "markdown",
   "metadata": {},
   "source": [
    "## Clusterize HRSL"
   ]
  },
  {
   "cell_type": "code",
   "execution_count": null,
   "metadata": {},
   "outputs": [],
   "source": [
    "import json\n",
    "from pathlib import Path\n",
    "\n",
    "import numpy as np\n",
    "from scipy import ndimage\n",
    "import geopandas as gpd\n",
    "\n",
    "import rasterio\n",
    "from rasterio.mask import mask\n",
    "from rasterio.features import shapes, rasterize\n",
    "from rasterstats import zonal_stats"
   ]
  },
  {
   "cell_type": "code",
   "execution_count": null,
   "metadata": {},
   "outputs": [],
   "source": [
    "folder_input = Path('/home/chris/Documents/GIS')\n",
    "hrsl_in = folder_input / 'HRSL_RWA' / 'hrsl_rwa_pop.tif'\n",
    "hrsl = rasterio.open(hrsl_in)"
   ]
  },
  {
   "cell_type": "code",
   "execution_count": null,
   "metadata": {
    "scrolled": false
   },
   "outputs": [],
   "source": [
    "plt.imshow(hrsl.read(1), cmap='pink')"
   ]
  },
  {
   "cell_type": "code",
   "execution_count": null,
   "metadata": {},
   "outputs": [],
   "source": [
    "hrsl.read(1).dtype"
   ]
  },
  {
   "cell_type": "markdown",
   "metadata": {},
   "source": [
    "# Simplify"
   ]
  },
  {
   "cell_type": "code",
   "execution_count": 76,
   "metadata": {},
   "outputs": [
    {
     "data": {
      "text/html": [
       "<div>\n",
       "<style scoped>\n",
       "    .dataframe tbody tr th:only-of-type {\n",
       "        vertical-align: middle;\n",
       "    }\n",
       "\n",
       "    .dataframe tbody tr th {\n",
       "        vertical-align: top;\n",
       "    }\n",
       "\n",
       "    .dataframe thead th {\n",
       "        text-align: right;\n",
       "    }\n",
       "</style>\n",
       "<table border=\"1\" class=\"dataframe\">\n",
       "  <thead>\n",
       "    <tr style=\"text-align: right;\">\n",
       "      <th></th>\n",
       "      <th>area</th>\n",
       "      <th>pop</th>\n",
       "      <th>ntl</th>\n",
       "      <th>travel</th>\n",
       "      <th>gdp</th>\n",
       "      <th>grid</th>\n",
       "      <th>geometry</th>\n",
       "    </tr>\n",
       "  </thead>\n",
       "  <tbody>\n",
       "    <tr>\n",
       "      <th>0</th>\n",
       "      <td>3.368466e+07</td>\n",
       "      <td>84626.523438</td>\n",
       "      <td>15.958363</td>\n",
       "      <td>1.800000</td>\n",
       "      <td>241.969056</td>\n",
       "      <td>0.000000</td>\n",
       "      <td>POLYGON ((29.75499344031981 -2.652883664447353...</td>\n",
       "    </tr>\n",
       "    <tr>\n",
       "      <th>1</th>\n",
       "      <td>4.418296e+07</td>\n",
       "      <td>115147.625000</td>\n",
       "      <td>3.782737</td>\n",
       "      <td>5.741667</td>\n",
       "      <td>219.700580</td>\n",
       "      <td>0.000000</td>\n",
       "      <td>POLYGON ((29.00321538957977 -2.707224869274936...</td>\n",
       "    </tr>\n",
       "    <tr>\n",
       "      <th>2</th>\n",
       "      <td>7.499433e+06</td>\n",
       "      <td>13829.521484</td>\n",
       "      <td>0.142395</td>\n",
       "      <td>2.083333</td>\n",
       "      <td>43.240831</td>\n",
       "      <td>3.691206</td>\n",
       "      <td>POLYGON ((29.57332635624572 -2.51736217036512,...</td>\n",
       "    </tr>\n",
       "    <tr>\n",
       "      <th>3</th>\n",
       "      <td>6.599887e+06</td>\n",
       "      <td>4717.690430</td>\n",
       "      <td>0.058999</td>\n",
       "      <td>3.700000</td>\n",
       "      <td>141.594708</td>\n",
       "      <td>0.000000</td>\n",
       "      <td>POLYGON ((29.71326951845277 -2.529498199156309...</td>\n",
       "    </tr>\n",
       "    <tr>\n",
       "      <th>4</th>\n",
       "      <td>4.961723e+06</td>\n",
       "      <td>6892.660645</td>\n",
       "      <td>0.209824</td>\n",
       "      <td>2.066667</td>\n",
       "      <td>41.058165</td>\n",
       "      <td>0.000000</td>\n",
       "      <td>POLYGON ((29.625402149435 -2.493090242465807, ...</td>\n",
       "    </tr>\n",
       "  </tbody>\n",
       "</table>\n",
       "</div>"
      ],
      "text/plain": [
       "           area            pop        ntl    travel         gdp      grid  \\\n",
       "0  3.368466e+07   84626.523438  15.958363  1.800000  241.969056  0.000000   \n",
       "1  4.418296e+07  115147.625000   3.782737  5.741667  219.700580  0.000000   \n",
       "2  7.499433e+06   13829.521484   0.142395  2.083333   43.240831  3.691206   \n",
       "3  6.599887e+06    4717.690430   0.058999  3.700000  141.594708  0.000000   \n",
       "4  4.961723e+06    6892.660645   0.209824  2.066667   41.058165  0.000000   \n",
       "\n",
       "                                            geometry  \n",
       "0  POLYGON ((29.75499344031981 -2.652883664447353...  \n",
       "1  POLYGON ((29.00321538957977 -2.707224869274936...  \n",
       "2  POLYGON ((29.57332635624572 -2.51736217036512,...  \n",
       "3  POLYGON ((29.71326951845277 -2.529498199156309...  \n",
       "4  POLYGON ((29.625402149435 -2.493090242465807, ...  "
      ]
     },
     "execution_count": 76,
     "metadata": {},
     "output_type": "execute_result"
    }
   ],
   "source": [
    "gis_path= Path.home() / 'Documents/Code/openelec_app/openelec_app/static/rwanda/clusters.geojson'\n",
    "\n",
    "gdf = gpd.read_file(gis_path)\n",
    "gdf.head()"
   ]
  },
  {
   "cell_type": "code",
   "execution_count": 77,
   "metadata": {},
   "outputs": [
    {
     "data": {
      "text/html": [
       "<div>\n",
       "<style scoped>\n",
       "    .dataframe tbody tr th:only-of-type {\n",
       "        vertical-align: middle;\n",
       "    }\n",
       "\n",
       "    .dataframe tbody tr th {\n",
       "        vertical-align: top;\n",
       "    }\n",
       "\n",
       "    .dataframe thead th {\n",
       "        text-align: right;\n",
       "    }\n",
       "</style>\n",
       "<table border=\"1\" class=\"dataframe\">\n",
       "  <thead>\n",
       "    <tr style=\"text-align: right;\">\n",
       "      <th></th>\n",
       "      <th>area</th>\n",
       "      <th>pop</th>\n",
       "      <th>ntl</th>\n",
       "      <th>travel</th>\n",
       "      <th>gdp</th>\n",
       "      <th>grid</th>\n",
       "      <th>geometry</th>\n",
       "      <th>fid</th>\n",
       "    </tr>\n",
       "  </thead>\n",
       "  <tbody>\n",
       "    <tr>\n",
       "      <th>0</th>\n",
       "      <td>3.368466e+07</td>\n",
       "      <td>84626.523438</td>\n",
       "      <td>15.958363</td>\n",
       "      <td>1.800000</td>\n",
       "      <td>241.969056</td>\n",
       "      <td>0.000000</td>\n",
       "      <td>POLYGON ((29.75499344031981 -2.652883664447353...</td>\n",
       "      <td>0</td>\n",
       "    </tr>\n",
       "    <tr>\n",
       "      <th>1</th>\n",
       "      <td>4.418296e+07</td>\n",
       "      <td>115147.625000</td>\n",
       "      <td>3.782737</td>\n",
       "      <td>5.741667</td>\n",
       "      <td>219.700580</td>\n",
       "      <td>0.000000</td>\n",
       "      <td>POLYGON ((29.00321538957977 -2.707224869274936...</td>\n",
       "      <td>1</td>\n",
       "    </tr>\n",
       "    <tr>\n",
       "      <th>2</th>\n",
       "      <td>7.499433e+06</td>\n",
       "      <td>13829.521484</td>\n",
       "      <td>0.142395</td>\n",
       "      <td>2.083333</td>\n",
       "      <td>43.240831</td>\n",
       "      <td>3.691206</td>\n",
       "      <td>POLYGON ((29.57332635624572 -2.51736217036512,...</td>\n",
       "      <td>2</td>\n",
       "    </tr>\n",
       "    <tr>\n",
       "      <th>3</th>\n",
       "      <td>6.599887e+06</td>\n",
       "      <td>4717.690430</td>\n",
       "      <td>0.058999</td>\n",
       "      <td>3.700000</td>\n",
       "      <td>141.594708</td>\n",
       "      <td>0.000000</td>\n",
       "      <td>POLYGON ((29.71326951845277 -2.529498199156309...</td>\n",
       "      <td>3</td>\n",
       "    </tr>\n",
       "    <tr>\n",
       "      <th>4</th>\n",
       "      <td>4.961723e+06</td>\n",
       "      <td>6892.660645</td>\n",
       "      <td>0.209824</td>\n",
       "      <td>2.066667</td>\n",
       "      <td>41.058165</td>\n",
       "      <td>0.000000</td>\n",
       "      <td>POLYGON ((29.625402149435 -2.493090242465807, ...</td>\n",
       "      <td>4</td>\n",
       "    </tr>\n",
       "  </tbody>\n",
       "</table>\n",
       "</div>"
      ],
      "text/plain": [
       "           area            pop        ntl    travel         gdp      grid  \\\n",
       "0  3.368466e+07   84626.523438  15.958363  1.800000  241.969056  0.000000   \n",
       "1  4.418296e+07  115147.625000   3.782737  5.741667  219.700580  0.000000   \n",
       "2  7.499433e+06   13829.521484   0.142395  2.083333   43.240831  3.691206   \n",
       "3  6.599887e+06    4717.690430   0.058999  3.700000  141.594708  0.000000   \n",
       "4  4.961723e+06    6892.660645   0.209824  2.066667   41.058165  0.000000   \n",
       "\n",
       "                                            geometry  fid  \n",
       "0  POLYGON ((29.75499344031981 -2.652883664447353...    0  \n",
       "1  POLYGON ((29.00321538957977 -2.707224869274936...    1  \n",
       "2  POLYGON ((29.57332635624572 -2.51736217036512,...    2  \n",
       "3  POLYGON ((29.71326951845277 -2.529498199156309...    3  \n",
       "4  POLYGON ((29.625402149435 -2.493090242465807, ...    4  "
      ]
     },
     "execution_count": 77,
     "metadata": {},
     "output_type": "execute_result"
    }
   ],
   "source": [
    "gdf['fid'] = gdf.index\n",
    "gdf.head()"
   ]
  },
  {
   "cell_type": "code",
   "execution_count": 78,
   "metadata": {},
   "outputs": [
    {
     "name": "stderr",
     "output_type": "stream",
     "text": [
      "/home/chris/anaconda3/lib/python3.6/site-packages/geopandas/io/file.py:108: FionaDeprecationWarning: Use fiona.Env() instead.\n",
      "  with fiona.drivers():\n",
      "CPLE_NotSupported in driver GeoJSON does not support creation option ENCODING\n",
      "CPLE_NotSupported in dataset /home/chris/Documents/Code/openelec_app/openelec_app/static/rwanda/clusters.geojson does not support layer creation option ENCODING\n",
      "CPLE_NotSupported in dataset /home/chris/Documents/Code/openelec_app/openelec_app/static/rwanda/clusters.geojson does not support layer creation option ENCODING\n"
     ]
    }
   ],
   "source": [
    "gdf.to_file(gis_path, driver='GeoJSON')"
   ]
  },
  {
   "cell_type": "code",
   "execution_count": 39,
   "metadata": {},
   "outputs": [
    {
     "data": {
      "text/plain": [
       "<matplotlib.axes._subplots.AxesSubplot at 0x7efbd561e0b8>"
      ]
     },
     "execution_count": 39,
     "metadata": {},
     "output_type": "execute_result"
    },
    {
     "data": {
      "image/png": "[encoded data removed]",
      "text/plain": [
       "<matplotlib.figure.Figure at 0x7efbd4546320>"
      ]
     },
     "metadata": {},
     "output_type": "display_data"
    }
   ],
   "source": [
    "tol = gdf.copy()\n",
    "tol.geometry = gdf.simplify(tolerance=0.001, preserve_topology=False)\n",
    "tol.plot()"
   ]
  },
  {
   "cell_type": "code",
   "execution_count": 43,
   "metadata": {},
   "outputs": [
    {
     "data": {
      "text/html": [
       "<div>\n",
       "<style scoped>\n",
       "    .dataframe tbody tr th:only-of-type {\n",
       "        vertical-align: middle;\n",
       "    }\n",
       "\n",
       "    .dataframe tbody tr th {\n",
       "        vertical-align: top;\n",
       "    }\n",
       "\n",
       "    .dataframe thead th {\n",
       "        text-align: right;\n",
       "    }\n",
       "</style>\n",
       "<table border=\"1\" class=\"dataframe\">\n",
       "  <thead>\n",
       "    <tr style=\"text-align: right;\">\n",
       "      <th></th>\n",
       "      <th>area</th>\n",
       "      <th>pop</th>\n",
       "      <th>ntl</th>\n",
       "      <th>travel</th>\n",
       "      <th>gdp</th>\n",
       "      <th>grid</th>\n",
       "      <th>geometry</th>\n",
       "    </tr>\n",
       "  </thead>\n",
       "  <tbody>\n",
       "    <tr>\n",
       "      <th>0</th>\n",
       "      <td>3.664338e+06</td>\n",
       "      <td>3760.354492</td>\n",
       "      <td>0.817591</td>\n",
       "      <td>2.458333</td>\n",
       "      <td>237.743543</td>\n",
       "      <td>5.031153</td>\n",
       "      <td>POLYGON ((27.62832800728892 -30.39640964697279...</td>\n",
       "    </tr>\n",
       "    <tr>\n",
       "      <th>1</th>\n",
       "      <td>9.529667e+06</td>\n",
       "      <td>14935.695312</td>\n",
       "      <td>0.919827</td>\n",
       "      <td>2.858333</td>\n",
       "      <td>30.062209</td>\n",
       "      <td>0.000000</td>\n",
       "      <td>POLYGON ((27.6656664758091 -30.36004951741453,...</td>\n",
       "    </tr>\n",
       "    <tr>\n",
       "      <th>2</th>\n",
       "      <td>4.055593e+06</td>\n",
       "      <td>4339.094727</td>\n",
       "      <td>0.016206</td>\n",
       "      <td>3.958333</td>\n",
       "      <td>13.827769</td>\n",
       "      <td>54.028349</td>\n",
       "      <td>POLYGON ((28.37937547016989 -30.01167819205005...</td>\n",
       "    </tr>\n",
       "    <tr>\n",
       "      <th>3</th>\n",
       "      <td>3.397839e+06</td>\n",
       "      <td>6862.478027</td>\n",
       "      <td>0.041586</td>\n",
       "      <td>3.050000</td>\n",
       "      <td>22.586593</td>\n",
       "      <td>3.889087</td>\n",
       "      <td>POLYGON ((27.23327524438427 -29.97537173335694...</td>\n",
       "    </tr>\n",
       "    <tr>\n",
       "      <th>4</th>\n",
       "      <td>2.109558e+06</td>\n",
       "      <td>614.652039</td>\n",
       "      <td>0.440330</td>\n",
       "      <td>1.966667</td>\n",
       "      <td>543.396880</td>\n",
       "      <td>4.506939</td>\n",
       "      <td>POLYGON ((27.49861920190072 -29.82165874282862...</td>\n",
       "    </tr>\n",
       "  </tbody>\n",
       "</table>\n",
       "</div>"
      ],
      "text/plain": [
       "           area           pop       ntl    travel         gdp       grid  \\\n",
       "0  3.664338e+06   3760.354492  0.817591  2.458333  237.743543   5.031153   \n",
       "1  9.529667e+06  14935.695312  0.919827  2.858333   30.062209   0.000000   \n",
       "2  4.055593e+06   4339.094727  0.016206  3.958333   13.827769  54.028349   \n",
       "3  3.397839e+06   6862.478027  0.041586  3.050000   22.586593   3.889087   \n",
       "4  2.109558e+06    614.652039  0.440330  1.966667  543.396880   4.506939   \n",
       "\n",
       "                                            geometry  \n",
       "0  POLYGON ((27.62832800728892 -30.39640964697279...  \n",
       "1  POLYGON ((27.6656664758091 -30.36004951741453,...  \n",
       "2  POLYGON ((28.37937547016989 -30.01167819205005...  \n",
       "3  POLYGON ((27.23327524438427 -29.97537173335694...  \n",
       "4  POLYGON ((27.49861920190072 -29.82165874282862...  "
      ]
     },
     "execution_count": 43,
     "metadata": {},
     "output_type": "execute_result"
    }
   ],
   "source": [
    "tol.head()"
   ]
  },
  {
   "cell_type": "code",
   "execution_count": 44,
   "metadata": {},
   "outputs": [
    {
     "name": "stderr",
     "output_type": "stream",
     "text": [
      "/home/chris/anaconda3/lib/python3.6/site-packages/geopandas/io/file.py:108: FionaDeprecationWarning: Use fiona.Env() instead.\n",
      "  with fiona.drivers():\n",
      "CPLE_NotSupported in dataset /home/chris/Documents/GIS/tol.gpkg does not support layer creation option ENCODING\n",
      "CPLE_NotSupported in dataset /home/chris/Documents/GIS/tol.gpkg does not support layer creation option ENCODING\n"
     ]
    }
   ],
   "source": [
    "file_out_tol = gis_path / 'tol.gpkg'\n",
    "tol.to_file(file_out_tol, driver='GPKG')"
   ]
  },
  {
   "cell_type": "code",
   "execution_count": 36,
   "metadata": {},
   "outputs": [
    {
     "data": {
      "text/plain": [
       "0    POLYGON ((27.62323683398616 -30.39854863745852...\n",
       "1    POLYGON ((27.68102203751268 -30.40068764565941...\n",
       "2    POLYGON ((28.38286250785172 -30.01594987049625...\n",
       "3    POLYGON ((27.22891429225209 -29.98177839053503...\n",
       "4    POLYGON ((27.49353652813961 -29.82379303190549...\n",
       "dtype: object"
      ]
     },
     "execution_count": 36,
     "metadata": {},
     "output_type": "execute_result"
    },
    {
     "data": {
      "image/png": "[encoded data removed]",
      "text/plain": [
       "<matplotlib.figure.Figure at 0x7efbd6748d30>"
      ]
     },
     "metadata": {},
     "output_type": "display_data"
    }
   ],
   "source": [
    "hulls = gdf.convex_hull\n",
    "hulls.plot(ax=gdf.plot())\n",
    "hulls.head()"
   ]
  },
  {
   "cell_type": "code",
   "execution_count": 37,
   "metadata": {},
   "outputs": [
    {
     "name": "stderr",
     "output_type": "stream",
     "text": [
      "/home/chris/anaconda3/lib/python3.6/site-packages/geopandas/io/file.py:108: FionaDeprecationWarning: Use fiona.Env() instead.\n",
      "  with fiona.drivers():\n",
      "CPLE_NotSupported in driver GPKG does not support creation option ENCODING\n",
      "CPLE_NotSupported in dataset /home/chris/Documents/GIS/hull.gpkg does not support layer creation option ENCODING\n",
      "CPLE_NotSupported in dataset /home/chris/Documents/GIS/hull.gpkg does not support layer creation option ENCODING\n"
     ]
    }
   ],
   "source": [
    "file_hull = gis_path / 'hull.gpkg'\n",
    "hulls.to_file(file_hull, driver='GPKG')"
   ]
  },
  {
   "cell_type": "code",
   "execution_count": 45,
   "metadata": {},
   "outputs": [
    {
     "name": "stderr",
     "output_type": "stream",
     "text": [
      "/home/chris/anaconda3/lib/python3.6/site-packages/geopandas/io/file.py:108: FionaDeprecationWarning: Use fiona.Env() instead.\n",
      "  with fiona.drivers():\n",
      "CPLE_NotSupported in driver GeoJSON does not support creation option ENCODING\n",
      "CPLE_NotSupported in dataset /home/chris/Documents/GIS/jsontest.geojson does not support layer creation option ENCODING\n",
      "CPLE_NotSupported in dataset /home/chris/Documents/GIS/jsontest.geojson does not support layer creation option ENCODING\n"
     ]
    }
   ],
   "source": [
    "json_file = gis_path / 'jsontest.geojson'\n",
    "tol.to_file(json_file, driver='GeoJSON')"
   ]
  },
  {
   "cell_type": "code",
   "execution_count": 65,
   "metadata": {},
   "outputs": [
    {
     "data": {
      "text/plain": [
       "<matplotlib.axes._subplots.AxesSubplot at 0x7efbd65fdd30>"
      ]
     },
     "execution_count": 65,
     "metadata": {},
     "output_type": "execute_result"
    },
    {
     "data": {
      "image/png": "[encoded data removed]",
      "text/plain": [
       "<matplotlib.figure.Figure at 0x7efbd525c2b0>"
      ]
     },
     "metadata": {},
     "output_type": "display_data"
    }
   ],
   "source": [
    "admin_file = Path.home() / 'Documents/Code/openelec_app/openelec_app/static/rwanda/admin.geojson'\n",
    "admin = gpd.read_file(admin_file)\n",
    "admin.plot()"
   ]
  },
  {
   "cell_type": "code",
   "execution_count": 66,
   "metadata": {},
   "outputs": [
    {
     "data": {
      "text/plain": [
       "<matplotlib.axes._subplots.AxesSubplot at 0x7efbd32d4e80>"
      ]
     },
     "execution_count": 66,
     "metadata": {},
     "output_type": "execute_result"
    },
    {
     "data": {
      "image/png": "[encoded data removed]",
      "text/plain": [
       "<matplotlib.figure.Figure at 0x7efbd6b17c50>"
      ]
     },
     "metadata": {},
     "output_type": "display_data"
    }
   ],
   "source": [
    "admin.geometry = admin.simplify(tolerance=0.001, preserve_topology=False)\n",
    "admin.plot()"
   ]
  },
  {
   "cell_type": "code",
   "execution_count": 67,
   "metadata": {},
   "outputs": [
    {
     "data": {
      "text/html": [
       "<div>\n",
       "<style scoped>\n",
       "    .dataframe tbody tr th:only-of-type {\n",
       "        vertical-align: middle;\n",
       "    }\n",
       "\n",
       "    .dataframe tbody tr th {\n",
       "        vertical-align: top;\n",
       "    }\n",
       "\n",
       "    .dataframe thead th {\n",
       "        text-align: right;\n",
       "    }\n",
       "</style>\n",
       "<table border=\"1\" class=\"dataframe\">\n",
       "  <thead>\n",
       "    <tr style=\"text-align: right;\">\n",
       "      <th></th>\n",
       "      <th>fid</th>\n",
       "      <th>NAME_0</th>\n",
       "      <th>geometry</th>\n",
       "    </tr>\n",
       "  </thead>\n",
       "  <tbody>\n",
       "    <tr>\n",
       "      <th>0</th>\n",
       "      <td>74</td>\n",
       "      <td>Rwanda</td>\n",
       "      <td>(POLYGON ((29.12520981 -2.60767221, 29.123909 ...</td>\n",
       "    </tr>\n",
       "  </tbody>\n",
       "</table>\n",
       "</div>"
      ],
      "text/plain": [
       "   fid  NAME_0                                           geometry\n",
       "0   74  Rwanda  (POLYGON ((29.12520981 -2.60767221, 29.123909 ..."
      ]
     },
     "execution_count": 67,
     "metadata": {},
     "output_type": "execute_result"
    }
   ],
   "source": [
    "admin.head()"
   ]
  },
  {
   "cell_type": "code",
   "execution_count": 68,
   "metadata": {},
   "outputs": [
    {
     "name": "stderr",
     "output_type": "stream",
     "text": [
      "/home/chris/anaconda3/lib/python3.6/site-packages/geopandas/io/file.py:108: FionaDeprecationWarning: Use fiona.Env() instead.\n",
      "  with fiona.drivers():\n",
      "CPLE_NotSupported in driver GeoJSON does not support creation option ENCODING\n",
      "CPLE_NotSupported in dataset /home/chris/Downloads/admin.geojson does not support layer creation option ENCODING\n",
      "CPLE_NotSupported in dataset /home/chris/Downloads/admin.geojson does not support layer creation option ENCODING\n"
     ]
    }
   ],
   "source": [
    "admin.to_file(Path.home() / 'Downloads/admin.geojson', driver='GeoJSON')"
   ]
  },
  {
   "cell_type": "markdown",
   "metadata": {},
   "source": [
    "# Simplify grid"
   ]
  },
  {
   "cell_type": "code",
   "execution_count": 3,
   "metadata": {
    "scrolled": true
   },
   "outputs": [
    {
     "data": {
      "text/html": [
       "<div>\n",
       "<style scoped>\n",
       "    .dataframe tbody tr th:only-of-type {\n",
       "        vertical-align: middle;\n",
       "    }\n",
       "\n",
       "    .dataframe tbody tr th {\n",
       "        vertical-align: top;\n",
       "    }\n",
       "\n",
       "    .dataframe thead th {\n",
       "        text-align: right;\n",
       "    }\n",
       "</style>\n",
       "<table border=\"1\" class=\"dataframe\">\n",
       "  <thead>\n",
       "    <tr style=\"text-align: right;\">\n",
       "      <th></th>\n",
       "      <th>geometry</th>\n",
       "    </tr>\n",
       "  </thead>\n",
       "  <tbody>\n",
       "    <tr>\n",
       "      <th>0</th>\n",
       "      <td>(LINESTRING (38.2172771 -4.8873877, 38.2197185...</td>\n",
       "    </tr>\n",
       "    <tr>\n",
       "      <th>1</th>\n",
       "      <td>(LINESTRING (38.2246319 -4.9038052, 38.2255428...</td>\n",
       "    </tr>\n",
       "    <tr>\n",
       "      <th>2</th>\n",
       "      <td>(LINESTRING (38.1904102 -4.8419189, 38.193092 ...</td>\n",
       "    </tr>\n",
       "    <tr>\n",
       "      <th>3</th>\n",
       "      <td>(LINESTRING (38.3208914 -6.5701642, 38.3344569...</td>\n",
       "    </tr>\n",
       "    <tr>\n",
       "      <th>4</th>\n",
       "      <td>(LINESTRING (38.7438104 -6.711318, 38.7420706 ...</td>\n",
       "    </tr>\n",
       "  </tbody>\n",
       "</table>\n",
       "</div>"
      ],
      "text/plain": [
       "                                            geometry\n",
       "0  (LINESTRING (38.2172771 -4.8873877, 38.2197185...\n",
       "1  (LINESTRING (38.2246319 -4.9038052, 38.2255428...\n",
       "2  (LINESTRING (38.1904102 -4.8419189, 38.193092 ...\n",
       "3  (LINESTRING (38.3208914 -6.5701642, 38.3344569...\n",
       "4  (LINESTRING (38.7438104 -6.711318, 38.7420706 ..."
      ]
     },
     "execution_count": 3,
     "metadata": {},
     "output_type": "execute_result"
    }
   ],
   "source": [
    "grid_in = Path.home() / 'Downloads/grid.geojson'\n",
    "grid = gpd.read_file(grid_in)\n",
    "grid.head()"
   ]
  },
  {
   "cell_type": "code",
   "execution_count": 10,
   "metadata": {},
   "outputs": [],
   "source": [
    "grid['length'] = grid.length\n",
    "grid = grid.loc[grid['length'] > 0.01]"
   ]
  },
  {
   "cell_type": "code",
   "execution_count": 21,
   "metadata": {},
   "outputs": [],
   "source": [
    "grid = grid.loc[grid.geometry.type != 'MultiLineString']"
   ]
  },
  {
   "cell_type": "code",
   "execution_count": 22,
   "metadata": {},
   "outputs": [
    {
     "data": {
      "text/plain": [
       "Series([], dtype: object)"
      ]
     },
     "execution_count": 22,
     "metadata": {},
     "output_type": "execute_result"
    }
   ],
   "source": [
    "grid.loc[grid.geometry.type == 'MultiLineString']"
   ]
  },
  {
   "cell_type": "code",
   "execution_count": 12,
   "metadata": {},
   "outputs": [],
   "source": [
    "grid = grid.simplify(tolerance=0.001, preserve_topology=False)"
   ]
  },
  {
   "cell_type": "code",
   "execution_count": 23,
   "metadata": {},
   "outputs": [
    {
     "name": "stderr",
     "output_type": "stream",
     "text": [
      "/home/chris/anaconda3/lib/python3.6/site-packages/geopandas/io/file.py:108: FionaDeprecationWarning: Use fiona.Env() instead.\n",
      "  with fiona.drivers():\n",
      "CPLE_NotSupported in driver GeoJSON does not support creation option ENCODING\n",
      "CPLE_NotSupported in dataset /home/chris/Downloads/grid5.geojson does not support layer creation option ENCODING\n",
      "CPLE_NotSupported in dataset /home/chris/Downloads/grid5.geojson does not support layer creation option ENCODING\n"
     ]
    }
   ],
   "source": [
    "grid_out = Path.home() / 'Downloads/grid5.geojson'\n",
    "grid.to_file(grid_out, driver='GeoJSON')"
   ]
  },
  {
   "cell_type": "markdown",
   "metadata": {},
   "source": [
    "# Check cluster size"
   ]
  },
  {
   "cell_type": "code",
   "execution_count": 29,
   "metadata": {},
   "outputs": [
    {
     "data": {
      "text/html": [
       "<div>\n",
       "<style scoped>\n",
       "    .dataframe tbody tr th:only-of-type {\n",
       "        vertical-align: middle;\n",
       "    }\n",
       "\n",
       "    .dataframe tbody tr th {\n",
       "        vertical-align: top;\n",
       "    }\n",
       "\n",
       "    .dataframe thead th {\n",
       "        text-align: right;\n",
       "    }\n",
       "</style>\n",
       "<table border=\"1\" class=\"dataframe\">\n",
       "  <thead>\n",
       "    <tr style=\"text-align: right;\">\n",
       "      <th></th>\n",
       "      <th>area</th>\n",
       "      <th>pop</th>\n",
       "      <th>ntl</th>\n",
       "      <th>travel</th>\n",
       "      <th>gdp</th>\n",
       "      <th>grid</th>\n",
       "      <th>fid</th>\n",
       "      <th>geometry</th>\n",
       "    </tr>\n",
       "  </thead>\n",
       "  <tbody>\n",
       "    <tr>\n",
       "      <th>0</th>\n",
       "      <td>3.368466e+07</td>\n",
       "      <td>84626.523438</td>\n",
       "      <td>15.958363</td>\n",
       "      <td>1.800000</td>\n",
       "      <td>241.969056</td>\n",
       "      <td>0.000000</td>\n",
       "      <td>0</td>\n",
       "      <td>POLYGON ((29.75499344031981 -2.652883664447353...</td>\n",
       "    </tr>\n",
       "    <tr>\n",
       "      <th>1</th>\n",
       "      <td>4.418296e+07</td>\n",
       "      <td>115147.625000</td>\n",
       "      <td>3.782737</td>\n",
       "      <td>5.741667</td>\n",
       "      <td>219.700580</td>\n",
       "      <td>0.000000</td>\n",
       "      <td>1</td>\n",
       "      <td>POLYGON ((29.00321538957977 -2.707224869274936...</td>\n",
       "    </tr>\n",
       "    <tr>\n",
       "      <th>2</th>\n",
       "      <td>7.499433e+06</td>\n",
       "      <td>13829.521484</td>\n",
       "      <td>0.142395</td>\n",
       "      <td>2.083333</td>\n",
       "      <td>43.240831</td>\n",
       "      <td>3.691206</td>\n",
       "      <td>2</td>\n",
       "      <td>POLYGON ((29.57332635624572 -2.51736217036512,...</td>\n",
       "    </tr>\n",
       "    <tr>\n",
       "      <th>3</th>\n",
       "      <td>6.599887e+06</td>\n",
       "      <td>4717.690430</td>\n",
       "      <td>0.058999</td>\n",
       "      <td>3.700000</td>\n",
       "      <td>141.594708</td>\n",
       "      <td>0.000000</td>\n",
       "      <td>3</td>\n",
       "      <td>POLYGON ((29.71326951845277 -2.529498199156309...</td>\n",
       "    </tr>\n",
       "    <tr>\n",
       "      <th>4</th>\n",
       "      <td>4.961723e+06</td>\n",
       "      <td>6892.660645</td>\n",
       "      <td>0.209824</td>\n",
       "      <td>2.066667</td>\n",
       "      <td>41.058165</td>\n",
       "      <td>0.000000</td>\n",
       "      <td>4</td>\n",
       "      <td>POLYGON ((29.625402149435 -2.493090242465807, ...</td>\n",
       "    </tr>\n",
       "  </tbody>\n",
       "</table>\n",
       "</div>"
      ],
      "text/plain": [
       "           area            pop        ntl    travel         gdp      grid  \\\n",
       "0  3.368466e+07   84626.523438  15.958363  1.800000  241.969056  0.000000   \n",
       "1  4.418296e+07  115147.625000   3.782737  5.741667  219.700580  0.000000   \n",
       "2  7.499433e+06   13829.521484   0.142395  2.083333   43.240831  3.691206   \n",
       "3  6.599887e+06    4717.690430   0.058999  3.700000  141.594708  0.000000   \n",
       "4  4.961723e+06    6892.660645   0.209824  2.066667   41.058165  0.000000   \n",
       "\n",
       "   fid                                           geometry  \n",
       "0    0  POLYGON ((29.75499344031981 -2.652883664447353...  \n",
       "1    1  POLYGON ((29.00321538957977 -2.707224869274936...  \n",
       "2    2  POLYGON ((29.57332635624572 -2.51736217036512,...  \n",
       "3    3  POLYGON ((29.71326951845277 -2.529498199156309...  \n",
       "4    4  POLYGON ((29.625402149435 -2.493090242465807, ...  "
      ]
     },
     "execution_count": 29,
     "metadata": {},
     "output_type": "execute_result"
    }
   ],
   "source": [
    "c_in = Path.home() / 'Documents/Code/openelec_app/openelec_app/static/rwanda/clusters.geojson'\n",
    "c = gpd.read_file(c_in)\n",
    "c.head()"
   ]
  },
  {
   "cell_type": "code",
   "execution_count": 28,
   "metadata": {},
   "outputs": [
    {
     "name": "stdout",
     "output_type": "stream",
     "text": [
      "Tanzania\n"
     ]
    },
    {
     "data": {
      "text/plain": [
       "8034"
      ]
     },
     "execution_count": 28,
     "metadata": {},
     "output_type": "execute_result"
    }
   ],
   "source": [
    "print('Tanzania')\n",
    "len(c)"
   ]
  },
  {
   "cell_type": "code",
   "execution_count": 30,
   "metadata": {},
   "outputs": [
    {
     "name": "stdout",
     "output_type": "stream",
     "text": [
      "Rwanda\n"
     ]
    },
    {
     "data": {
      "text/plain": [
       "2864"
      ]
     },
     "execution_count": 30,
     "metadata": {},
     "output_type": "execute_result"
    }
   ],
   "source": [
    "print('Rwanda')\n",
    "len(c)"
   ]
  },
  {
   "cell_type": "code",
   "execution_count": null,
   "metadata": {},
   "outputs": [],
   "source": []
  }
 ],
 "metadata": {
  "kernelspec": {
   "display_name": "Python 3 (openelec)",
   "language": "python",
   "name": "openelec"
  },
  "language_info": {
   "codemirror_mode": {
    "name": "ipython",
    "version": 3
   },
   "file_extension": ".py",
   "mimetype": "text/x-python",
   "name": "python",
   "nbconvert_exporter": "python",
   "pygments_lexer": "ipython3",
   "version": "3.6.7"
  }
 },
 "nbformat": 4,
 "nbformat_minor": 2
}
